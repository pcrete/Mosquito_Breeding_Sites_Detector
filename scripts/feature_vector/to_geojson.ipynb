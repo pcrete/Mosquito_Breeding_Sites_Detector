{
 "cells": [
  {
   "cell_type": "code",
   "execution_count": 1,
   "metadata": {
    "collapsed": true
   },
   "outputs": [],
   "source": [
    "import csv \n",
    "import os \n",
    "import json \n",
    "from tqdm import tqdm \n",
    "import pandas as pd\n",
    "from jsoncomment import JsonComment\n",
    "\n",
    "province = 'ชัยนาท'\n",
    "district = 'มโนรมย์'\n",
    "subdist = 'ท่าฉนวน'\n",
    "village = 'บ้านคลองรุน'\n",
    "\n",
    "directory = os.path.join('../../GSV',province, district, subdist, village)\n",
    "\n",
    "def get_info(image_name): \n",
    "    info = image_name.replace('-','_').split('_') \n",
    "    return info[0] , info[1], info[3], info[4] \n",
    "\n",
    "def get_data(image_name): \n",
    "    info = image_name.replace('-','_').split('_') \n",
    "    return info[2], info[5], info[6] \n",
    "\n",
    "def get_coor(image_name): \n",
    "    info = image_name.replace('-','_').split('_') \n",
    "    return info[0]+'_'+info[1]\n",
    "\n",
    "def get_result(row):\n",
    "    results = [[row[1],float(format(float(row[2]), '.5f'))],\n",
    "              [row[3],float(format(float(row[4]), '.5f'))],\n",
    "              [row[5],float(format(float(row[6]), '.5f'))],\n",
    "              [row[7],float(format(float(row[8]), '.5f'))],\n",
    "              [row[9],float(format(float(row[10]), '.5f'))]]\n",
    "    return row[1], results"
   ]
  },
  {
   "cell_type": "code",
   "execution_count": 2,
   "metadata": {},
   "outputs": [],
   "source": [
    "def run(directory, breeding_sites):\n",
    "    check_coor = []\n",
    "    GeoJSON = {} \n",
    "    GeoJSON['type'] = \"FeatureCollection\" \n",
    "    GeoJSON['features'] = []\n",
    "    with open(os.path.join(directory,'features_classified.csv'), newline='') as csvfile: \n",
    "        rows = list(csv.reader(csvfile, delimiter=';', quotechar='|'))   \n",
    "        for row_x in rows: \n",
    "            coor_x = get_coor(row_x[0])\n",
    "            if(coor_x not in check_coor):\n",
    "             \n",
    "                lat, lng, year, month = get_info(row_x[0])\n",
    "                Feature = {\n",
    "                    'type': \"Feature\", 'geometry':{ 'type':\"Point\",'coordinates':[float(lng),float(lat)] },\n",
    "                    'properties':{\n",
    "                                    'image_name':lat+'_'+lng,\n",
    "                                    'date':{ \n",
    "                                        'month':month, 'year':year \n",
    "                                    },\n",
    "                                    'brd_sites':{}, 'count':{}                                    \n",
    "                             }\n",
    "                }\n",
    "                SUM = 0\n",
    "                for row_y in rows:\n",
    "                    coor_y = get_coor(row_y[0])\n",
    "                    if(coor_x == coor_y): \n",
    "                        head, chop, segnet = get_data(row_y[0])\n",
    "                        label, results = get_result(row_y)\n",
    "\n",
    "                        Feature['properties']['brd_sites'].update({\n",
    "                                head:{\n",
    "                                     chop:{\n",
    "                                        'inception':results, 'segnet':segnet, 'label':label\n",
    "                                       }\n",
    "                                }})\n",
    "\n",
    "                        if label in Feature['properties']['count']:\n",
    "                            Feature['properties']['count'][label] += 1\n",
    "                        else:\n",
    "                            Feature['properties']['count'][label] = 1\n",
    "                            \n",
    "                        SUM += 1\n",
    "                Feature['properties']['sum'] = SUM                           \n",
    "                GeoJSON['features'].append(Feature)\n",
    "                check_coor.append(coor_x)\n",
    "        \n",
    "        \n",
    "        with open(os.path.join(directory,'brd_sites.js'), 'w') as f: \n",
    "            f.write('brd_sites('+json.dumps(GeoJSON, sort_keys=True, indent=4, separators=(',', ': '))+')')\n",
    "        \n",
    "        print('----------------------')\n",
    "        print('converted to geojson')\n",
    "        print('unique coordinate:',len(check_coor))\n",
    "        print('----------------------')"
   ]
  },
  {
   "cell_type": "code",
   "execution_count": 3,
   "metadata": {},
   "outputs": [
    {
     "name": "stdout",
     "output_type": "stream",
     "text": [
      "----------------------\n",
      "converted to geojson\n",
      "unique coordinate: 47\n",
      "----------------------\n"
     ]
    }
   ],
   "source": [
    "\n",
    "breeding_sites = [ \n",
    "                'pot, flowerpot', 'stupa, tope', \n",
    "                'water jug', 'water bottle', \n",
    "                'ashcan, trash can, garbage can, wastebin, ash bin,\\\n",
    "                 ash-bin, ashbin, dustbin, trash barrel, trash bin', \n",
    "                'greenhouse, nursery, glasshouse', 'milk can', \n",
    "                'barrel, cask', 'canoe', 'rain barrel', \n",
    "                'lakeside, lakeshore', 'Dutch oven' \n",
    "                ]\n",
    "\n",
    "run(directory, breeding_sites)"
   ]
  },
  {
   "cell_type": "code",
   "execution_count": null,
   "metadata": {
    "collapsed": true
   },
   "outputs": [],
   "source": []
  }
 ],
 "metadata": {
  "kernelspec": {
   "display_name": "Python 3",
   "language": "python",
   "name": "python3"
  },
  "language_info": {
   "codemirror_mode": {
    "name": "ipython",
    "version": 3
   },
   "file_extension": ".py",
   "mimetype": "text/x-python",
   "name": "python",
   "nbconvert_exporter": "python",
   "pygments_lexer": "ipython3",
   "version": "3.5.2"
  }
 },
 "nbformat": 4,
 "nbformat_minor": 2
}
